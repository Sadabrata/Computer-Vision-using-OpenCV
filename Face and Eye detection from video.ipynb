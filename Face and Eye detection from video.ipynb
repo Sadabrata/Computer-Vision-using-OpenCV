{
 "cells": [
  {
   "cell_type": "code",
   "execution_count": 1,
   "metadata": {},
   "outputs": [],
   "source": [
    "import cv2"
   ]
  },
  {
   "cell_type": "code",
   "execution_count": 2,
   "metadata": {},
   "outputs": [],
   "source": [
    "face_cascade = cv2.CascadeClassifier(\"/home/sadabrata/Desktop/New Projects/OpenCV/files/haarcascade_frontalface_default.xml\")\n",
    "eye_cascade = cv2.CascadeClassifier(\"/home/sadabrata/Desktop/New Projects/OpenCV/files/haarcascade_eye.xml\")"
   ]
  },
  {
   "cell_type": "code",
   "execution_count": 3,
   "metadata": {},
   "outputs": [],
   "source": [
    "#detection function\n",
    "def detect(gray, frame):\n",
    "    #face features\n",
    "    faces = face_cascade.detectMultiScale(gray, 1.3, 5)\n",
    "    if faces is ():\n",
    "        print(\"face not detected\")\n",
    "    for (x, y, w, h) in faces:\n",
    "        #draw rectangle on face\n",
    "        cv2.rectangle(frame, (x, y), (x+w, y+h), (255, 0, 0), 2)\n",
    "        #crop the face\n",
    "        roi_gray = gray[y:y+h, x:x+w]\n",
    "        roi_color = frame[y:y+h, x:x+w]\n",
    "        #eye features\n",
    "        eyes = eye_cascade.detectMultiScale(roi_gray, 1.1, 3)\n",
    "        if eyes is ():\n",
    "            print(\"eye not detected\")\n",
    "        for (ex, ey, ew, eh) in eyes:\n",
    "            #draw rectangle on eyes\n",
    "            cv2.rectangle(roi_color, (ex, ey), (ex+ew, ey+eh), (0, 255, 0), 2)\n",
    "    return frame"
   ]
  },
  {
   "cell_type": "code",
   "execution_count": 4,
   "metadata": {},
   "outputs": [
    {
     "name": "stdout",
     "output_type": "stream",
     "text": [
      "face not detected\n",
      "face not detected\n",
      "face not detected\n",
      "face not detected\n",
      "face not detected\n",
      "face not detected\n",
      "face not detected\n",
      "face not detected\n",
      "face not detected\n",
      "face not detected\n",
      "face not detected\n",
      "face not detected\n",
      "face not detected\n",
      "face not detected\n",
      "face not detected\n",
      "face not detected\n",
      "face not detected\n",
      "face not detected\n",
      "face not detected\n",
      "face not detected\n",
      "face not detected\n",
      "face not detected\n",
      "face not detected\n",
      "face not detected\n",
      "face not detected\n",
      "face not detected\n",
      "face not detected\n",
      "face not detected\n",
      "face not detected\n",
      "face not detected\n",
      "face not detected\n",
      "face not detected\n",
      "face not detected\n",
      "face not detected\n"
     ]
    }
   ],
   "source": [
    "#to use webcam VideoCapture(0)\n",
    "#VideoCapture() captures frames from video\n",
    "video_capture = cv2.VideoCapture(0)\n",
    "while True:\n",
    "    #read the frames\n",
    "    _, frame = video_capture.read()\n",
    "    #convert to gray\n",
    "    gray = cv2.cvtColor(frame, cv2.COLOR_BGR2GRAY)\n",
    "    canvas = detect(gray, frame)\n",
    "    cv2.imshow(\"video\", canvas)\n",
    "    #enter and q to exit\n",
    "    if cv2.waitKey(1) & 0xFF == ord('q'):\n",
    "        break\n",
    "video_capture.release()\n",
    "cv2.destroyAllWindows()"
   ]
  },
  {
   "cell_type": "code",
   "execution_count": null,
   "metadata": {},
   "outputs": [],
   "source": []
  }
 ],
 "metadata": {
  "kernelspec": {
   "display_name": "Python 3",
   "language": "python",
   "name": "python3"
  },
  "language_info": {
   "codemirror_mode": {
    "name": "ipython",
    "version": 3
   },
   "file_extension": ".py",
   "mimetype": "text/x-python",
   "name": "python",
   "nbconvert_exporter": "python",
   "pygments_lexer": "ipython3",
   "version": "3.7.7"
  }
 },
 "nbformat": 4,
 "nbformat_minor": 4
}
