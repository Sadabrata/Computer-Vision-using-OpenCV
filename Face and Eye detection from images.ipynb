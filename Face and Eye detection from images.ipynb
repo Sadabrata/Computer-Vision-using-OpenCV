{
 "cells": [
  {
   "cell_type": "code",
   "execution_count": 1,
   "metadata": {},
   "outputs": [],
   "source": [
    "import numpy as np\n",
    "import cv2"
   ]
  },
  {
   "cell_type": "markdown",
   "metadata": {},
   "source": [
    "# Face Detection"
   ]
  },
  {
   "cell_type": "code",
   "execution_count": 2,
   "metadata": {},
   "outputs": [],
   "source": [
    "face_classifier = cv2.CascadeClassifier(\"/home/sadabrata/Desktop/New Projects/OpenCV/files/haarcascade_frontalface_default.xml\")"
   ]
  },
  {
   "cell_type": "code",
   "execution_count": 3,
   "metadata": {},
   "outputs": [],
   "source": [
    "#load and image and convert it to gray scale\n",
    "image_f = cv2.imread(\"/home/sadabrata/Desktop/New Projects/OpenCV/files/Trump.jpg\")\n",
    "gray_f = cv2.cvtColor(image_f, cv2.COLOR_BGR2GRAY)\n",
    "\n",
    "\n",
    "#detect the face\n",
    "#the face_classifier returns the ROI of the detected face as a tuple\n",
    "#it stores the top left coordinate and the bottom right coordiantes\n",
    "face_arr = face_classifier.detectMultiScale(gray_f, 1.3, 5)\n",
    "\n",
    "# When no face is detected, face_classifier returns and empty tuple\n",
    "if face_arr is ():\n",
    "    print(\"no face found\")\n",
    "\n",
    "\n",
    "#iterate through 'face_arr' array and draw a rectangle over each face in face_arr\n",
    "for (x,y,w,h) in face_arr:\n",
    "    #draw a rectangle on the face\n",
    "    cv2.rectangle(image_f, (x,y), (x+w,y+h), (127,0,255), 6)\n",
    "    cv2.imshow('Face Detection', image_f)\n",
    "    cv2.waitKey(0)\n",
    "\n",
    "cv2.destroyAllWindows()"
   ]
  },
  {
   "cell_type": "code",
   "execution_count": 4,
   "metadata": {},
   "outputs": [
    {
     "data": {
      "text/plain": [
       "numpy.ndarray"
      ]
     },
     "execution_count": 4,
     "metadata": {},
     "output_type": "execute_result"
    }
   ],
   "source": [
    "#face_arr\n",
    "type(face_arr)"
   ]
  },
  {
   "cell_type": "markdown",
   "metadata": {},
   "source": [
    "# Face and Eye detection"
   ]
  },
  {
   "cell_type": "code",
   "execution_count": 2,
   "metadata": {},
   "outputs": [],
   "source": [
    "face_classifier = cv2.CascadeClassifier(\"/home/sadabrata/Desktop/New Projects/OpenCV/files/haarcascade_frontalface_default.xml\")\n",
    "eyes_classifier = cv2.CascadeClassifier(\"/home/sadabrata/Desktop/New Projects/OpenCV/files/haarcascade_eye.xml\")"
   ]
  },
  {
   "cell_type": "code",
   "execution_count": 7,
   "metadata": {},
   "outputs": [],
   "source": [
    "#load and image and convert it to gray scale\n",
    "image_f = cv2.imread(\"/home/sadabrata/Desktop/New Projects/OpenCV/files/Trump.jpg\")\n",
    "gray_f = cv2.cvtColor(image_f, cv2.COLOR_BGR2GRAY)\n",
    "\n",
    "#detect the face\n",
    "face_arr = face_classifier.detectMultiScale(gray_f, 1.3, 5)\n",
    "if face_arr is ():\n",
    "    print(\"no face found\")\n",
    "\n",
    "for (x,y,w,h) in face_arr:\n",
    "    #draw a rectangle on the face\n",
    "    cv2.rectangle(image_f, (x,y), (x+w,y+h), (127,0,255), 6)\n",
    "    cv2.imshow('detection image', image_f)\n",
    "    cv2.waitKey(0)\n",
    "    #crop the face\n",
    "    roi_gray_face = gray_f[x:x+w,y:y+h]\n",
    "    roi_color_face = image_f[x:x+w,y:y+h]\n",
    "    #roi_gray_face = gray_f[y:y+h, x:x+w]\n",
    "    #roi_color_face = image_f[y:y+h, x:x+w]\n",
    "    #detect eyes\n",
    "    eyes = eyes_classifier.detectMultiScale(roi_gray_face)\n",
    "    if eyes is ():\n",
    "        print(\"no eyes found\")\n",
    "    #draw rectangle over the eyes\n",
    "    for (ex,ey,ew,eh) in eyes:\n",
    "        cv2.rectangle(roi_color_face,(ex,ey),(ex+ew,ey+eh),(255,255,0),2)\n",
    "        cv2.imshow('detection image', image_f)\n",
    "        cv2.waitKey(0)\n",
    "cv2.destroyAllWindows()"
   ]
  },
  {
   "cell_type": "code",
   "execution_count": null,
   "metadata": {},
   "outputs": [],
   "source": []
  }
 ],
 "metadata": {
  "kernelspec": {
   "display_name": "Python 3",
   "language": "python",
   "name": "python3"
  },
  "language_info": {
   "codemirror_mode": {
    "name": "ipython",
    "version": 3
   },
   "file_extension": ".py",
   "mimetype": "text/x-python",
   "name": "python",
   "nbconvert_exporter": "python",
   "pygments_lexer": "ipython3",
   "version": "3.7.7"
  }
 },
 "nbformat": 4,
 "nbformat_minor": 4
}
